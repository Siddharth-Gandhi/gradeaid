{
 "cells": [
  {
   "cell_type": "code",
   "execution_count": 13,
   "id": "f02043be-f03f-45a5-8741-f07e07ac0a32",
   "metadata": {},
   "outputs": [],
   "source": [
    "from sentence_transformers import SentenceTransformer, util\n",
    "import spacy\n",
    "import scipy\n",
    "import json"
   ]
  },
  {
   "cell_type": "code",
   "execution_count": 2,
   "id": "70d5cd25-bc99-404f-b747-ee46cc4dd66f",
   "metadata": {},
   "outputs": [
    {
     "name": "stderr",
     "output_type": "stream",
     "text": [
      "c:\\Users\\Siddharth\\anaconda3\\envs\\gradeaid\\lib\\site-packages\\huggingface_hub\\file_download.py:621: FutureWarning: `cached_download` is the legacy way to download files from the HF hub, please consider upgrading to `hf_hub_download`\n",
      "  warnings.warn(\n"
     ]
    }
   ],
   "source": [
    "model = SentenceTransformer(\"all-mpnet-base-v2\")"
   ]
  },
  {
   "cell_type": "code",
   "execution_count": 3,
   "id": "74850331-5d78-42f5-960d-8c2b39a4c1aa",
   "metadata": {},
   "outputs": [],
   "source": [
    "paragrah_seg = spacy.load(\"en_core_web_sm\")"
   ]
  },
  {
   "cell_type": "code",
   "execution_count": 24,
   "id": "420ed7ae-828f-4593-900a-56d0dfbc69c2",
   "metadata": {},
   "outputs": [],
   "source": [
    "def segment_paragraph(paragraph):\n",
    "    doc = paragrah_seg(paragraph)\n",
    "    return [sentence.text.strip() for sentence in doc.sents]"
   ]
  },
  {
   "cell_type": "code",
   "execution_count": 25,
   "id": "eca04f0d-631e-4229-a999-568d6e281936",
   "metadata": {},
   "outputs": [],
   "source": [
    "def semantic_senetence_similarity(s1, s2):\n",
    "    embeddings1 = model.encode(s1)\n",
    "    embeddings2 = model.encode(s2)\n",
    "\n",
    "    #Compute cosine-similarits\n",
    "    cosine_score = util.cos_sim(embeddings1, embeddings2)\n",
    "    # print(f\"Simliarity b/w '{s1}' & '{s2}' is {cosine_score[0][0]:.2f}\")\n",
    "    return cosine_score[0][0]"
   ]
  },
  {
   "cell_type": "code",
   "execution_count": 26,
   "id": "3962d5d5-b453-4ce2-b4f7-5f4c595e7089",
   "metadata": {},
   "outputs": [
    {
     "name": "stdout",
     "output_type": "stream",
     "text": [
      "The semantic similarity score is 0.80\n"
     ]
    }
   ],
   "source": [
    "# Sentence semantic similarity\n",
    "s1 = \"People need to log off their computers.\"\n",
    "s2 = \"It is necessary for people to log off from their computers.\"\n",
    "score = semantic_senetence_similarity(s1 , s2)\n",
    "print(f'The semantic similarity score is {score:.2f}')"
   ]
  },
  {
   "cell_type": "code",
   "execution_count": 27,
   "id": "7842a2c6-6e87-4a5f-a096-72c7111aa9f5",
   "metadata": {},
   "outputs": [],
   "source": [
    "sample_key = \"Cat is a very adorable and a cute animal. It is a domestic animal and is kept as a pet. It has very sharp claws and keen eyes that help it in seeing during the night. That means that it has a very good nocturnal vision that is much better than humans. It has two small ears, with a highly sensitive tympanic membrane (eardrum), which helps it in hearing even the slightest of the sounds. It’s small and bushy tail helps it in maintaining balance while walking.Cat is an extremely beautiful and a mesmerising mammal, which can attract you towards itself with it’s laid back attitude and funny portrayal of it’s actions. You will be completely fascinated by the cat. It can be aggressive at times, when it is irritated or is being continuously poked. Cats are found in many colours like brown, golden, white, black or a mix of any these two colours.\""
   ]
  },
  {
   "cell_type": "code",
   "execution_count": 28,
   "id": "bc2578e0-fd92-4c45-922d-bc2b165a9485",
   "metadata": {},
   "outputs": [
    {
     "name": "stdout",
     "output_type": "stream",
     "text": [
      "Segmented paragraph for key is\n"
     ]
    },
    {
     "data": {
      "text/plain": [
       "['Cat is a very adorable and a cute animal.',\n",
       " 'It is a domestic animal and is kept as a pet.',\n",
       " 'It has very sharp claws and keen eyes that help it in seeing during the night.',\n",
       " 'That means that it has a very good nocturnal vision that is much better than humans.',\n",
       " 'It has two small ears, with a highly sensitive tympanic membrane (eardrum), which helps it in hearing even the slightest of the sounds.',\n",
       " 'It’s small and bushy tail helps it in maintaining balance while walking.',\n",
       " 'Cat is an extremely beautiful and a mesmerising mammal, which can attract you towards itself with it’s laid back attitude and funny portrayal of it’s actions.',\n",
       " 'You will be completely fascinated by the cat.',\n",
       " 'It can be aggressive at times, when it is irritated or is being continuously poked.',\n",
       " 'Cats are found in many colours like brown, golden, white, black or a mix of any these two colours.']"
      ]
     },
     "execution_count": 28,
     "metadata": {},
     "output_type": "execute_result"
    }
   ],
   "source": [
    "segmented_key_sentences = segment_paragraph(sample_key)\n",
    "print(\"Segmented paragraph for key is\")\n",
    "segmented_key_sentences"
   ]
  },
  {
   "cell_type": "code",
   "execution_count": 29,
   "id": "e9e6463a-8dc9-4e98-a413-13ba0d965e5f",
   "metadata": {},
   "outputs": [],
   "source": [
    "sample_answer = \"\"\"The cat is a really lovely and adorable animal. It is a pet that is kept as a domestic animal. It possesses razor-sharp claws and strong eyes that aid it in night vision. That implies it has excellent nocturnal eyesight, far superior to that of humans.\n",
    "It has two tiny ears and an extremely sensitive tympanic membrane (eardrum) that allows it to hear even the smallest noises. It walks with a tiny, bushy tail that helps it maintain balance.Cat is a mesmerising and incredibly attractive animal that may draw you in with its laid-back demeanour and amusing representation of its behaviours. The cat will hold your attention totally.\"\"\""
   ]
  },
  {
   "cell_type": "code",
   "execution_count": 30,
   "id": "17b5fd96-185d-4d3d-8150-460946f98c79",
   "metadata": {},
   "outputs": [
    {
     "name": "stdout",
     "output_type": "stream",
     "text": [
      "Segmented paragraph for sample answer is\n"
     ]
    },
    {
     "data": {
      "text/plain": [
       "['The cat is a really lovely and adorable animal.',\n",
       " 'It is a pet that is kept as a domestic animal.',\n",
       " 'It possesses razor-sharp claws and strong eyes that aid it in night vision.',\n",
       " 'That implies it has excellent nocturnal eyesight, far superior to that of humans.',\n",
       " 'It has two tiny ears and an extremely sensitive tympanic membrane (eardrum) that allows it to hear even the smallest noises.',\n",
       " 'It walks with a tiny, bushy tail that helps it maintain balance.',\n",
       " 'Cat is a mesmerising and incredibly attractive animal that may draw you in with its laid-back demeanour and amusing representation of its behaviours.',\n",
       " 'The cat will hold your attention totally.']"
      ]
     },
     "execution_count": 30,
     "metadata": {},
     "output_type": "execute_result"
    }
   ],
   "source": [
    "segmented_answer_sentences = segment_paragraph(sample_answer)\n",
    "print(\"Segmented paragraph for sample answer is\")\n",
    "segmented_answer_sentences"
   ]
  },
  {
   "cell_type": "code",
   "execution_count": 31,
   "id": "55bd1bd2-58f3-448c-95b7-fa02d769ebae",
   "metadata": {},
   "outputs": [],
   "source": [
    "def match_answer_with_key(answer, key, threshold=0.5):\n",
    "    segmented_answer_sentences = segment_paragraph(answer)\n",
    "    segmented_key_sentences = segment_paragraph(key)\n",
    "    sentence_covereded_in_answer = [False for _ in range(len(segmented_key_sentences))]\n",
    "    matched_sentences = []\n",
    "    for answer_sentence in segmented_answer_sentences:\n",
    "        for key_sentence in segmented_key_sentences:\n",
    "            similarity = semantic_senetence_similarity(answer_sentence, key_sentence)\n",
    "            if similarity > threshold:\n",
    "                sentence_covereded_in_answer[segmented_key_sentences.index(key_sentence)] = True\n",
    "                obj = {\"answer_sentence\": answer_sentence, \"key_sentence\": key_sentence, \"similarity_score\": similarity.item()}\n",
    "                matched_sentences.append(obj)\n",
    "\n",
    "    # filter key sentences not in answer\n",
    "    key_sentences_not_in_answer = [segmented_key_sentences[i] for i in range(len(segmented_key_sentences)) if sentence_covereded_in_answer[i] == False]\n",
    "    key_sentences_in_answer = [segmented_key_sentences[i] for i in range(len(segmented_key_sentences)) if sentence_covereded_in_answer[i] == True]\n",
    "    # print(key_sentences_not_in_answer)\n",
    "\n",
    "    #calculate semantic score\n",
    "    total_len = sum(len(sent) for sent in segmented_key_sentences)\n",
    "    sum_ = sum(len(segmented_key_sentences[i]) for i in range(len(segmented_key_sentences)) if sentence_covereded_in_answer[i] == True)\n",
    "\n",
    "    final_score = 10*sum_/total_len\n",
    "    final_dict = {\n",
    "    \"semantic_score\": final_score,\n",
    "    \"key_sentences_not_in_answer\": key_sentences_not_in_answer,\n",
    "    \"key_sentences_in_answer\": key_sentences_in_answer,\n",
    "    \"matched_sentences\": matched_sentences\n",
    "    }\n",
    "    # print(f'Total: {total_len}; Sum: {sum_}; Final_Score: {final_score}')\n",
    "    return json.dumps(final_dict)\n",
    "                # print(f\"Simlilar sentences found! \\n S1: {answer_sentence} \\n S2: {key_sentence} \\n With Similarity Score: {similarity:.2f}\")"
   ]
  },
  {
   "cell_type": "code",
   "execution_count": 33,
   "id": "4af5778c-2cfc-42b5-9ddc-329759dacb37",
   "metadata": {},
   "outputs": [
    {
     "data": {
      "application/json": {
       "key_sentences_in_answer": [
        "Cat is a very adorable and a cute animal.",
        "It is a domestic animal and is kept as a pet.",
        "It has very sharp claws and keen eyes that help it in seeing during the night.",
        "That means that it has a very good nocturnal vision that is much better than humans.",
        "It has two small ears, with a highly sensitive tympanic membrane (eardrum), which helps it in hearing even the slightest of the sounds.",
        "It’s small and bushy tail helps it in maintaining balance while walking.",
        "Cat is an extremely beautiful and a mesmerising mammal, which can attract you towards itself with it’s laid back attitude and funny portrayal of it’s actions.",
        "You will be completely fascinated by the cat.",
        "Cats are found in many colours like brown, golden, white, black or a mix of any these two colours."
       ],
       "key_sentences_not_in_answer": [
        "It can be aggressive at times, when it is irritated or is being continuously poked."
       ],
       "matched_sentences": [
        {
         "answer_sentence": "The cat is a really lovely and adorable animal.",
         "key_sentence": "Cat is a very adorable and a cute animal.",
         "similarity_score": 0.8514649868011475
        },
        {
         "answer_sentence": "The cat is a really lovely and adorable animal.",
         "key_sentence": "It is a domestic animal and is kept as a pet.",
         "similarity_score": 0.5624103546142578
        },
        {
         "answer_sentence": "The cat is a really lovely and adorable animal.",
         "key_sentence": "Cat is an extremely beautiful and a mesmerising mammal, which can attract you towards itself with it’s laid back attitude and funny portrayal of it’s actions.",
         "similarity_score": 0.6976026296615601
        },
        {
         "answer_sentence": "The cat is a really lovely and adorable animal.",
         "key_sentence": "You will be completely fascinated by the cat.",
         "similarity_score": 0.5308355689048767
        },
        {
         "answer_sentence": "It is a pet that is kept as a domestic animal.",
         "key_sentence": "It is a domestic animal and is kept as a pet.",
         "similarity_score": 0.9430917501449585
        },
        {
         "answer_sentence": "It is a pet that is kept as a domestic animal.",
         "key_sentence": "It’s small and bushy tail helps it in maintaining balance while walking.",
         "similarity_score": 0.5096152424812317
        },
        {
         "answer_sentence": "It possesses razor-sharp claws and strong eyes that aid it in night vision.",
         "key_sentence": "It has very sharp claws and keen eyes that help it in seeing during the night.",
         "similarity_score": 0.9369879961013794
        },
        {
         "answer_sentence": "It possesses razor-sharp claws and strong eyes that aid it in night vision.",
         "key_sentence": "That means that it has a very good nocturnal vision that is much better than humans.",
         "similarity_score": 0.6646887063980103
        },
        {
         "answer_sentence": "It possesses razor-sharp claws and strong eyes that aid it in night vision.",
         "key_sentence": "It’s small and bushy tail helps it in maintaining balance while walking.",
         "similarity_score": 0.5423439145088196
        },
        {
         "answer_sentence": "That implies it has excellent nocturnal eyesight, far superior to that of humans.",
         "key_sentence": "It has very sharp claws and keen eyes that help it in seeing during the night.",
         "similarity_score": 0.6841689348220825
        },
        {
         "answer_sentence": "That implies it has excellent nocturnal eyesight, far superior to that of humans.",
         "key_sentence": "That means that it has a very good nocturnal vision that is much better than humans.",
         "similarity_score": 0.9504933953285217
        },
        {
         "answer_sentence": "It has two tiny ears and an extremely sensitive tympanic membrane (eardrum) that allows it to hear even the smallest noises.",
         "key_sentence": "It has very sharp claws and keen eyes that help it in seeing during the night.",
         "similarity_score": 0.5446376800537109
        },
        {
         "answer_sentence": "It has two tiny ears and an extremely sensitive tympanic membrane (eardrum) that allows it to hear even the smallest noises.",
         "key_sentence": "It has two small ears, with a highly sensitive tympanic membrane (eardrum), which helps it in hearing even the slightest of the sounds.",
         "similarity_score": 0.9595127105712891
        },
        {
         "answer_sentence": "It walks with a tiny, bushy tail that helps it maintain balance.",
         "key_sentence": "It is a domestic animal and is kept as a pet.",
         "similarity_score": 0.509852945804596
        },
        {
         "answer_sentence": "It walks with a tiny, bushy tail that helps it maintain balance.",
         "key_sentence": "It has very sharp claws and keen eyes that help it in seeing during the night.",
         "similarity_score": 0.5868216753005981
        },
        {
         "answer_sentence": "It walks with a tiny, bushy tail that helps it maintain balance.",
         "key_sentence": "It’s small and bushy tail helps it in maintaining balance while walking.",
         "similarity_score": 0.843346357345581
        },
        {
         "answer_sentence": "Cat is a mesmerising and incredibly attractive animal that may draw you in with its laid-back demeanour and amusing representation of its behaviours.",
         "key_sentence": "Cat is a very adorable and a cute animal.",
         "similarity_score": 0.8219811916351318
        },
        {
         "answer_sentence": "Cat is a mesmerising and incredibly attractive animal that may draw you in with its laid-back demeanour and amusing representation of its behaviours.",
         "key_sentence": "Cat is an extremely beautiful and a mesmerising mammal, which can attract you towards itself with it’s laid back attitude and funny portrayal of it’s actions.",
         "similarity_score": 0.9589763879776001
        },
        {
         "answer_sentence": "Cat is a mesmerising and incredibly attractive animal that may draw you in with its laid-back demeanour and amusing representation of its behaviours.",
         "key_sentence": "You will be completely fascinated by the cat.",
         "similarity_score": 0.5445950031280518
        },
        {
         "answer_sentence": "Cat is a mesmerising and incredibly attractive animal that may draw you in with its laid-back demeanour and amusing representation of its behaviours.",
         "key_sentence": "Cats are found in many colours like brown, golden, white, black or a mix of any these two colours.",
         "similarity_score": 0.5181062817573547
        },
        {
         "answer_sentence": "The cat will hold your attention totally.",
         "key_sentence": "Cat is a very adorable and a cute animal.",
         "similarity_score": 0.5635561943054199
        },
        {
         "answer_sentence": "The cat will hold your attention totally.",
         "key_sentence": "Cat is an extremely beautiful and a mesmerising mammal, which can attract you towards itself with it’s laid back attitude and funny portrayal of it’s actions.",
         "similarity_score": 0.5944088101387024
        },
        {
         "answer_sentence": "The cat will hold your attention totally.",
         "key_sentence": "You will be completely fascinated by the cat.",
         "similarity_score": 0.7731354236602783
        }
       ],
       "semantic_score": 9.01072705601907
      },
      "text/plain": [
       "<IPython.core.display.JSON object>"
      ]
     },
     "execution_count": 33,
     "metadata": {
      "application/json": {
       "expanded": false,
       "root": "root"
      }
     },
     "output_type": "execute_result"
    }
   ],
   "source": [
    "from IPython.display import JSON\n",
    "JSON(match_answer_with_key(sample_answer, sample_key))"
   ]
  }
 ],
 "metadata": {
  "kernelspec": {
   "display_name": "gradeaid",
   "language": "python",
   "name": "gradeaid"
  },
  "language_info": {
   "codemirror_mode": {
    "name": "ipython",
    "version": 3
   },
   "file_extension": ".py",
   "mimetype": "text/x-python",
   "name": "python",
   "nbconvert_exporter": "python",
   "pygments_lexer": "ipython3",
   "version": "3.8.5"
  },
  "vscode": {
   "interpreter": {
    "hash": "fb3dc9a0bb86ea19d73cb8121084cd90cc54a1fe085c00ab10a15856df88ecfb"
   }
  }
 },
 "nbformat": 4,
 "nbformat_minor": 5
}
