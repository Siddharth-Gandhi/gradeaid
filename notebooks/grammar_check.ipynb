{
 "cells": [
  {
   "cell_type": "code",
   "execution_count": 1,
   "metadata": {},
   "outputs": [],
   "source": [
    "import numpy as np\n",
    "import pandas as pd\n",
    "import nltk\n",
    "import re\n",
    "from nltk.corpus import stopwords\n",
    "from nltk.tokenize import sent_tokenize,word_tokenize\n",
    "from gensim.models import Word2Vec\n",
    "from keras.layers import Embedding, LSTM, Dense, Dropout, Lambda, Flatten\n",
    "from keras.models import Sequential, load_model, model_from_config\n",
    "import keras.backend as K\n",
    "from sklearn.model_selection import train_test_split\n",
    "from sklearn.metrics import mean_squared_error\n",
    "from sklearn.metrics import cohen_kappa_score"
   ]
  },
  {
   "cell_type": "markdown",
   "metadata": {},
   "source": [
    "**Preparing Dataset**"
   ]
  },
  {
   "cell_type": "code",
   "execution_count": 2,
   "metadata": {},
   "outputs": [],
   "source": [
    "df = pd.read_csv(\"../Dataset/training_set_rel3.tsv\", sep='\\t', encoding='ISO-8859-1');\n",
    "df.dropna(axis=1,inplace=True)\n",
    "df.drop(columns=['domain1_score','rater1_domain1','rater2_domain1'],inplace=True,axis=1)\n",
    "df.head()\n",
    "temp = pd.read_csv(\"Processed_data.csv\")\n",
    "temp.drop(\"Unnamed: 0\",inplace=True,axis=1)"
   ]
  },
  {
   "cell_type": "code",
   "execution_count": 3,
   "metadata": {},
   "outputs": [
    {
     "data": {
      "text/html": [
       "<div>\n",
       "<style scoped>\n",
       "    .dataframe tbody tr th:only-of-type {\n",
       "        vertical-align: middle;\n",
       "    }\n",
       "\n",
       "    .dataframe tbody tr th {\n",
       "        vertical-align: top;\n",
       "    }\n",
       "\n",
       "    .dataframe thead th {\n",
       "        text-align: right;\n",
       "    }\n",
       "</style>\n",
       "<table border=\"1\" class=\"dataframe\">\n",
       "  <thead>\n",
       "    <tr style=\"text-align: right;\">\n",
       "      <th></th>\n",
       "      <th>essay_id</th>\n",
       "      <th>essay_set</th>\n",
       "      <th>essay</th>\n",
       "      <th>domain1_score</th>\n",
       "    </tr>\n",
       "  </thead>\n",
       "  <tbody>\n",
       "    <tr>\n",
       "      <th>0</th>\n",
       "      <td>1</td>\n",
       "      <td>1</td>\n",
       "      <td>Dear local newspaper, I think effects computer...</td>\n",
       "      <td>6</td>\n",
       "    </tr>\n",
       "    <tr>\n",
       "      <th>1</th>\n",
       "      <td>2</td>\n",
       "      <td>1</td>\n",
       "      <td>Dear @CAPS1 @CAPS2, I believe that using compu...</td>\n",
       "      <td>7</td>\n",
       "    </tr>\n",
       "    <tr>\n",
       "      <th>2</th>\n",
       "      <td>3</td>\n",
       "      <td>1</td>\n",
       "      <td>Dear, @CAPS1 @CAPS2 @CAPS3 More and more peopl...</td>\n",
       "      <td>5</td>\n",
       "    </tr>\n",
       "    <tr>\n",
       "      <th>3</th>\n",
       "      <td>4</td>\n",
       "      <td>1</td>\n",
       "      <td>Dear Local Newspaper, @CAPS1 I have found that...</td>\n",
       "      <td>8</td>\n",
       "    </tr>\n",
       "    <tr>\n",
       "      <th>4</th>\n",
       "      <td>5</td>\n",
       "      <td>1</td>\n",
       "      <td>Dear @LOCATION1, I know having computers has a...</td>\n",
       "      <td>6</td>\n",
       "    </tr>\n",
       "  </tbody>\n",
       "</table>\n",
       "</div>"
      ],
      "text/plain": [
       "   essay_id  essay_set                                              essay  \\\n",
       "0         1          1  Dear local newspaper, I think effects computer...   \n",
       "1         2          1  Dear @CAPS1 @CAPS2, I believe that using compu...   \n",
       "2         3          1  Dear, @CAPS1 @CAPS2 @CAPS3 More and more peopl...   \n",
       "3         4          1  Dear Local Newspaper, @CAPS1 I have found that...   \n",
       "4         5          1  Dear @LOCATION1, I know having computers has a...   \n",
       "\n",
       "   domain1_score  \n",
       "0              6  \n",
       "1              7  \n",
       "2              5  \n",
       "3              8  \n",
       "4              6  "
      ]
     },
     "execution_count": 3,
     "metadata": {},
     "output_type": "execute_result"
    }
   ],
   "source": [
    "df['domain1_score']=temp['final_score']\n",
    "df.head()"
   ]
  },
  {
   "cell_type": "code",
   "execution_count": 4,
   "metadata": {},
   "outputs": [
    {
     "data": {
      "text/plain": [
       "\"Dear local newspaper, I think effects computers have on people are great learning skills/affects because they give us time to chat with friends/new people, helps us learn about the globe(astronomy) and keeps us out of troble! Thing about! Dont you think so? How would you feel if your teenager is always on the phone with friends! Do you ever time to chat with your friends or buisness partner about things. Well now - there's a new way to chat the computer, theirs plenty of sites on the internet to do so: @ORGANIZATION1, @ORGANIZATION2, @CAPS1, facebook, myspace ect. Just think now while your setting up meeting with your boss on the computer, your teenager is having fun on the phone not rushing to get off cause you want to use it. How did you learn about other countrys/states outside of yours? Well I have by computer/internet, it's a new way to learn about what going on in our time! You might think your child spends a lot of time on the computer, but ask them so question about the economy, sea floor spreading or even about the @DATE1's you'll be surprise at how much he/she knows. Believe it or not the computer is much interesting then in class all day reading out of books. If your child is home on your computer or at a local library, it's better than being out with friends being fresh, or being perpressured to doing something they know isnt right. You might not know where your child is, @CAPS2 forbidde in a hospital bed because of a drive-by. Rather than your child on the computer learning, chatting or just playing games, safe and sound in your home or community place. Now I hope you have reached a point to understand and agree with me, because computers can have great effects on you or child because it gives us time to chat with friends/new people, helps us learn about the globe and believe or not keeps us out of troble. Thank you for listening.\""
      ]
     },
     "execution_count": 4,
     "metadata": {},
     "output_type": "execute_result"
    }
   ],
   "source": [
    "df['essay'][0]"
   ]
  },
  {
   "cell_type": "code",
   "execution_count": 5,
   "metadata": {},
   "outputs": [
    {
     "data": {
      "text/html": [
       "<div>\n",
       "<style scoped>\n",
       "    .dataframe tbody tr th:only-of-type {\n",
       "        vertical-align: middle;\n",
       "    }\n",
       "\n",
       "    .dataframe tbody tr th {\n",
       "        vertical-align: top;\n",
       "    }\n",
       "\n",
       "    .dataframe thead th {\n",
       "        text-align: right;\n",
       "    }\n",
       "</style>\n",
       "<table border=\"1\" class=\"dataframe\">\n",
       "  <thead>\n",
       "    <tr style=\"text-align: right;\">\n",
       "      <th></th>\n",
       "      <th>essay_id</th>\n",
       "      <th>essay_set</th>\n",
       "      <th>essay</th>\n",
       "      <th>final_score</th>\n",
       "      <th>clean_essay</th>\n",
       "      <th>char_count</th>\n",
       "      <th>word_count</th>\n",
       "      <th>sent_count</th>\n",
       "      <th>avg_word_len</th>\n",
       "      <th>spell_err_count</th>\n",
       "      <th>noun_count</th>\n",
       "      <th>adj_count</th>\n",
       "      <th>verb_count</th>\n",
       "      <th>adv_count</th>\n",
       "    </tr>\n",
       "  </thead>\n",
       "  <tbody>\n",
       "    <tr>\n",
       "      <th>0</th>\n",
       "      <td>1</td>\n",
       "      <td>1</td>\n",
       "      <td>Dear local newspaper, I think effects computer...</td>\n",
       "      <td>6</td>\n",
       "      <td>Dear local newspaper  I think effects computer...</td>\n",
       "      <td>1441</td>\n",
       "      <td>344</td>\n",
       "      <td>16</td>\n",
       "      <td>4.188953</td>\n",
       "      <td>19</td>\n",
       "      <td>76</td>\n",
       "      <td>75</td>\n",
       "      <td>18</td>\n",
       "      <td>24</td>\n",
       "    </tr>\n",
       "  </tbody>\n",
       "</table>\n",
       "</div>"
      ],
      "text/plain": [
       "   essay_id  essay_set                                              essay  \\\n",
       "0         1          1  Dear local newspaper, I think effects computer...   \n",
       "\n",
       "   final_score                                        clean_essay  char_count  \\\n",
       "0            6  Dear local newspaper  I think effects computer...        1441   \n",
       "\n",
       "   word_count  sent_count  avg_word_len  spell_err_count  noun_count  \\\n",
       "0         344          16      4.188953               19          76   \n",
       "\n",
       "   adj_count  verb_count  adv_count  \n",
       "0         75          18         24  "
      ]
     },
     "execution_count": 5,
     "metadata": {},
     "output_type": "execute_result"
    }
   ],
   "source": [
    "temp.head(1)"
   ]
  },
  {
   "cell_type": "code",
   "execution_count": 6,
   "metadata": {},
   "outputs": [],
   "source": [
    "#Make Dataset\n",
    "y = df['domain1_score']\n",
    "df.drop('domain1_score',inplace=True,axis=1)\n",
    "X=df"
   ]
  },
  {
   "cell_type": "code",
   "execution_count": 7,
   "metadata": {},
   "outputs": [],
   "source": [
    "X_train, X_test, y_train, y_test = train_test_split(X, y, test_size=0.3, random_state=42)"
   ]
  },
  {
   "cell_type": "code",
   "execution_count": 8,
   "metadata": {},
   "outputs": [
    {
     "data": {
      "text/plain": [
       "(9083, 3)"
      ]
     },
     "execution_count": 8,
     "metadata": {},
     "output_type": "execute_result"
    }
   ],
   "source": [
    "X_train.shape"
   ]
  },
  {
   "cell_type": "markdown",
   "metadata": {},
   "source": [
    " "
   ]
  },
  {
   "cell_type": "markdown",
   "metadata": {},
   "source": [
    "**PREPROCESSING**"
   ]
  },
  {
   "cell_type": "code",
   "execution_count": 9,
   "metadata": {},
   "outputs": [],
   "source": [
    "train_e = X_train['essay'].tolist()\n",
    "test_e = X_test['essay'].tolist()"
   ]
  },
  {
   "cell_type": "code",
   "execution_count": 10,
   "metadata": {},
   "outputs": [
    {
     "data": {
      "text/plain": [
       "12481     6\n",
       "6425      7\n",
       "4989      7\n",
       "12903     6\n",
       "10239     8\n",
       "         ..\n",
       "11964     7\n",
       "5191     10\n",
       "5390      3\n",
       "860       8\n",
       "7270     10\n",
       "Name: domain1_score, Length: 9083, dtype: int64"
      ]
     },
     "execution_count": 10,
     "metadata": {},
     "output_type": "execute_result"
    }
   ],
   "source": [
    "y_train"
   ]
  },
  {
   "cell_type": "code",
   "execution_count": 11,
   "metadata": {},
   "outputs": [],
   "source": [
    "train_sents=[]\n",
    "test_sents=[]\n",
    "\n",
    "stop_words = set(stopwords.words('english')) \n",
    "def sent2word(x):\n",
    "    x=re.sub(\"[^A-Za-z]\",\" \",x)\n",
    "    x.lower()\n",
    "    filtered_sentence = [] \n",
    "    words=x.split()\n",
    "    for w in words:\n",
    "        if w not in stop_words: \n",
    "            filtered_sentence.append(w)\n",
    "    return filtered_sentence\n",
    "\n",
    "def essay2word(essay):\n",
    "    essay = essay.strip()\n",
    "    tokenizer = nltk.data.load('tokenizers/punkt/english.pickle')\n",
    "    raw = tokenizer.tokenize(essay)\n",
    "    final_words=[]\n",
    "    for i in raw:\n",
    "        if(len(i)>0):\n",
    "            final_words.append(sent2word(i))\n",
    "    return final_words\n",
    "\n",
    "for i in train_e:\n",
    "    train_sents+=essay2word(i)\n",
    "\n",
    "for i in test_e:\n",
    "    test_sents+=essay2word(i)"
   ]
  },
  {
   "cell_type": "code",
   "execution_count": 12,
   "metadata": {},
   "outputs": [
    {
     "data": {
      "text/plain": [
       "115941"
      ]
     },
     "execution_count": 12,
     "metadata": {},
     "output_type": "execute_result"
    }
   ],
   "source": [
    "len(train_sents)"
   ]
  },
  {
   "cell_type": "code",
   "execution_count": 13,
   "metadata": {},
   "outputs": [
    {
     "data": {
      "text/plain": [
       "['It',\n",
       " 'first',\n",
       " 'day',\n",
       " 'high',\n",
       " 'school',\n",
       " 'gut',\n",
       " 'full',\n",
       " 'butterflies',\n",
       " 'make',\n",
       " 'want',\n",
       " 'run',\n",
       " 'bathrooms',\n",
       " 'hide',\n",
       " 'world']"
      ]
     },
     "execution_count": 13,
     "metadata": {},
     "output_type": "execute_result"
    }
   ],
   "source": [
    "train_sents[0]"
   ]
  },
  {
   "cell_type": "markdown",
   "metadata": {},
   "source": [
    " "
   ]
  },
  {
   "cell_type": "markdown",
   "metadata": {},
   "source": [
    "**Preparing WORD2VEC and LSTM Model**"
   ]
  },
  {
   "cell_type": "code",
   "execution_count": 14,
   "metadata": {},
   "outputs": [],
   "source": [
    "def get_model():\n",
    "    model = Sequential()\n",
    "    model.add(LSTM(300, dropout=0.4, recurrent_dropout=0.4, input_shape=[1, 300], return_sequences=True))\n",
    "    model.add(LSTM(64, recurrent_dropout=0.4))\n",
    "    model.add(Dropout(0.5))\n",
    "    model.add(Dense(1, activation='relu'))\n",
    "    model.compile(loss='mean_squared_error', optimizer='rmsprop', metrics=['mae'])\n",
    "    model.summary()\n",
    "    return model"
   ]
  },
  {
   "cell_type": "code",
   "execution_count": 15,
   "metadata": {},
   "outputs": [],
   "source": [
    "#Training Word2Vec model\n",
    "num_features = 300 \n",
    "min_word_count = 40\n",
    "num_workers = 4\n",
    "context = 10\n",
    "downsampling = 1e-3\n",
    "\n",
    "model = Word2Vec(train_sents, \n",
    "                 workers=num_workers, \n",
    "                 vector_size=num_features, \n",
    "                 min_count = min_word_count, \n",
    "                 window = context, \n",
    "                 sample = downsampling)\n",
    "\n",
    "# model.init_sims(replace=True)\n",
    "model.wv.save_word2vec_format('word2vecmodel.bin', binary=True)"
   ]
  },
  {
   "cell_type": "code",
   "execution_count": 16,
   "metadata": {},
   "outputs": [
    {
     "data": {
      "text/plain": [
       "{'divide': 'warn', 'over': 'warn', 'under': 'ignore', 'invalid': 'warn'}"
      ]
     },
     "execution_count": 16,
     "metadata": {},
     "output_type": "execute_result"
    }
   ],
   "source": [
    "np.seterr(divide='ignore', invalid='ignore')"
   ]
  },
  {
   "cell_type": "code",
   "execution_count": 17,
   "metadata": {
    "scrolled": true
   },
   "outputs": [],
   "source": [
    "def makeVec(words, model, num_features):\n",
    "    vec = np.zeros((num_features),dtype=\"float32\")\n",
    "    noOfWords = 0.\n",
    "    index2word_set = set(model.wv.index_to_key)\n",
    "    for i in words:\n",
    "        if i in index2word_set:\n",
    "            noOfWords += 1\n",
    "            # vec = np.add(vec,model.wv[i])\n",
    "            vec = np.add(vec,model.wv[i])\n",
    "            # vec += model.wv[i].reshape((1, num_features))     \n",
    "    vec = np.divide(vec,noOfWords)\n",
    "    return vec\n",
    "\n",
    "\n",
    "def getVecs(essays, model, num_features):\n",
    "    c=0\n",
    "    essay_vecs = np.zeros((len(essays),num_features),dtype=\"float32\")\n",
    "    for i in essays:\n",
    "        essay_vecs[c] = makeVec(i, model, num_features)\n",
    "        c+=1\n",
    "    return essay_vecs\n",
    "\n",
    "\n",
    "clean_train=[]\n",
    "for i in train_e:\n",
    "    clean_train.append(sent2word(i))\n",
    "training_vectors = getVecs(clean_train, model, num_features)\n",
    "\n",
    "clean_test=[]\n",
    "\n",
    "for i in test_e:\n",
    "    clean_test.append(sent2word(i))\n",
    "testing_vectors = getVecs(clean_test, model, num_features)"
   ]
  },
  {
   "cell_type": "code",
   "execution_count": 18,
   "metadata": {},
   "outputs": [
    {
     "data": {
      "text/plain": [
       "(9083, 300)"
      ]
     },
     "execution_count": 18,
     "metadata": {},
     "output_type": "execute_result"
    }
   ],
   "source": [
    "training_vectors.shape"
   ]
  },
  {
   "cell_type": "code",
   "execution_count": 19,
   "metadata": {},
   "outputs": [
    {
     "name": "stdout",
     "output_type": "stream",
     "text": [
      "Model: \"sequential\"\n",
      "_________________________________________________________________\n",
      " Layer (type)                Output Shape              Param #   \n",
      "=================================================================\n",
      " lstm (LSTM)                 (None, 1, 300)            721200    \n",
      "                                                                 \n",
      " lstm_1 (LSTM)               (None, 64)                93440     \n",
      "                                                                 \n",
      " dropout (Dropout)           (None, 64)                0         \n",
      "                                                                 \n",
      " dense (Dense)               (None, 1)                 65        \n",
      "                                                                 \n",
      "=================================================================\n",
      "Total params: 814,705\n",
      "Trainable params: 814,705\n",
      "Non-trainable params: 0\n",
      "_________________________________________________________________\n"
     ]
    }
   ],
   "source": [
    "training_vectors = np.array(training_vectors)\n",
    "testing_vectors = np.array(testing_vectors)\n",
    "\n",
    "# Reshaping train and test vectors to 3 dimensions. (1 represnts one timestep)\n",
    "training_vectors = np.reshape(training_vectors, (training_vectors.shape[0], 1, training_vectors.shape[1]))\n",
    "testing_vectors = np.reshape(testing_vectors, (testing_vectors.shape[0], 1, testing_vectors.shape[1]))\n",
    "lstm_model = get_model()"
   ]
  },
  {
   "cell_type": "code",
   "execution_count": 20,
   "metadata": {},
   "outputs": [
    {
     "data": {
      "text/plain": [
       "(9083, 1, 300)"
      ]
     },
     "execution_count": 20,
     "metadata": {},
     "output_type": "execute_result"
    }
   ],
   "source": [
    "training_vectors.shape"
   ]
  },
  {
   "cell_type": "markdown",
   "metadata": {},
   "source": [
    "\n",
    "**TRAINING AND PREDICTION**\n",
    "\n",
    "\n",
    "\n",
    "\n",
    "\n"
   ]
  },
  {
   "cell_type": "markdown",
   "metadata": {},
   "source": [
    "  "
   ]
  },
  {
   "cell_type": "code",
   "execution_count": 39,
   "metadata": {},
   "outputs": [
    {
     "name": "stdout",
     "output_type": "stream",
     "text": [
      "Epoch 1/150\n",
      "142/142 [==============================] - 2s 17ms/step - loss: 1.5869 - mae: 0.9693\n",
      "Epoch 2/150\n",
      "142/142 [==============================] - 2s 16ms/step - loss: 1.5820 - mae: 0.9692\n",
      "Epoch 3/150\n",
      "142/142 [==============================] - 2s 17ms/step - loss: 1.5801 - mae: 0.9759\n",
      "Epoch 4/150\n",
      "142/142 [==============================] - 3s 18ms/step - loss: 1.5706 - mae: 0.9687\n",
      "Epoch 5/150\n",
      "142/142 [==============================] - 2s 17ms/step - loss: 1.6144 - mae: 0.9781\n",
      "Epoch 6/150\n",
      "142/142 [==============================] - 2s 16ms/step - loss: 1.5474 - mae: 0.9586\n",
      "Epoch 7/150\n",
      "142/142 [==============================] - 3s 18ms/step - loss: 1.5828 - mae: 0.9713\n",
      "Epoch 8/150\n",
      "142/142 [==============================] - 3s 18ms/step - loss: 1.5837 - mae: 0.9700\n",
      "Epoch 9/150\n",
      "142/142 [==============================] - 2s 17ms/step - loss: 1.5728 - mae: 0.9733\n",
      "Epoch 10/150\n",
      "142/142 [==============================] - 2s 16ms/step - loss: 1.6081 - mae: 0.9775\n",
      "Epoch 11/150\n",
      "142/142 [==============================] - 2s 16ms/step - loss: 1.5455 - mae: 0.9633\n",
      "Epoch 12/150\n",
      "142/142 [==============================] - 2s 17ms/step - loss: 1.5832 - mae: 0.9696\n",
      "Epoch 13/150\n",
      "142/142 [==============================] - 3s 18ms/step - loss: 1.5739 - mae: 0.9647\n",
      "Epoch 14/150\n",
      "142/142 [==============================] - 3s 18ms/step - loss: 1.6026 - mae: 0.9769\n",
      "Epoch 15/150\n",
      "142/142 [==============================] - 3s 19ms/step - loss: 1.6121 - mae: 0.9723\n",
      "Epoch 16/150\n",
      "142/142 [==============================] - 2s 17ms/step - loss: 1.5386 - mae: 0.9573\n",
      "Epoch 17/150\n",
      "142/142 [==============================] - 3s 18ms/step - loss: 1.5862 - mae: 0.9691\n",
      "Epoch 18/150\n",
      "142/142 [==============================] - 3s 19ms/step - loss: 1.5741 - mae: 0.9670\n",
      "Epoch 19/150\n",
      "142/142 [==============================] - 2s 17ms/step - loss: 1.5605 - mae: 0.9628\n",
      "Epoch 20/150\n",
      "142/142 [==============================] - 2s 17ms/step - loss: 1.5396 - mae: 0.9578\n",
      "Epoch 21/150\n",
      "142/142 [==============================] - 2s 16ms/step - loss: 1.5567 - mae: 0.9649\n",
      "Epoch 22/150\n",
      "142/142 [==============================] - 3s 21ms/step - loss: 1.5726 - mae: 0.9663\n",
      "Epoch 23/150\n",
      "142/142 [==============================] - 2s 17ms/step - loss: 1.5881 - mae: 0.9715\n",
      "Epoch 24/150\n",
      "142/142 [==============================] - 2s 17ms/step - loss: 1.5508 - mae: 0.9598\n",
      "Epoch 25/150\n",
      "142/142 [==============================] - 2s 16ms/step - loss: 1.5730 - mae: 0.9644\n",
      "Epoch 26/150\n",
      "142/142 [==============================] - 3s 18ms/step - loss: 1.5546 - mae: 0.9578\n",
      "Epoch 27/150\n",
      "142/142 [==============================] - 3s 18ms/step - loss: 1.5367 - mae: 0.9600\n",
      "Epoch 28/150\n",
      "142/142 [==============================] - 3s 20ms/step - loss: 1.5618 - mae: 0.9602\n",
      "Epoch 29/150\n",
      "142/142 [==============================] - 2s 17ms/step - loss: 1.5273 - mae: 0.9552\n",
      "Epoch 30/150\n",
      "142/142 [==============================] - 3s 18ms/step - loss: 1.5680 - mae: 0.9658\n",
      "Epoch 31/150\n",
      "142/142 [==============================] - 2s 17ms/step - loss: 1.5069 - mae: 0.9494\n",
      "Epoch 32/150\n",
      "142/142 [==============================] - 3s 19ms/step - loss: 1.5175 - mae: 0.9460\n",
      "Epoch 33/150\n",
      "142/142 [==============================] - 2s 16ms/step - loss: 1.5621 - mae: 0.9639\n",
      "Epoch 34/150\n",
      "142/142 [==============================] - 2s 16ms/step - loss: 1.5402 - mae: 0.9544\n",
      "Epoch 35/150\n",
      "142/142 [==============================] - 2s 17ms/step - loss: 1.5429 - mae: 0.9596\n",
      "Epoch 36/150\n",
      "142/142 [==============================] - 2s 17ms/step - loss: 1.5320 - mae: 0.9528\n",
      "Epoch 37/150\n",
      "142/142 [==============================] - 2s 17ms/step - loss: 1.5635 - mae: 0.9629\n",
      "Epoch 38/150\n",
      "142/142 [==============================] - 2s 17ms/step - loss: 1.5037 - mae: 0.9472\n",
      "Epoch 39/150\n",
      "142/142 [==============================] - 2s 16ms/step - loss: 1.5197 - mae: 0.9472\n",
      "Epoch 40/150\n",
      "142/142 [==============================] - 2s 17ms/step - loss: 1.4933 - mae: 0.9393\n",
      "Epoch 41/150\n",
      "142/142 [==============================] - 2s 17ms/step - loss: 1.5209 - mae: 0.9527\n",
      "Epoch 42/150\n",
      "142/142 [==============================] - 2s 17ms/step - loss: 1.5439 - mae: 0.9507\n",
      "Epoch 43/150\n",
      "142/142 [==============================] - 2s 17ms/step - loss: 1.5117 - mae: 0.9482\n",
      "Epoch 44/150\n",
      "142/142 [==============================] - 2s 16ms/step - loss: 1.4995 - mae: 0.9426\n",
      "Epoch 45/150\n",
      "142/142 [==============================] - 2s 16ms/step - loss: 1.4850 - mae: 0.9394\n",
      "Epoch 46/150\n",
      "142/142 [==============================] - 2s 17ms/step - loss: 1.4960 - mae: 0.9450\n",
      "Epoch 47/150\n",
      "142/142 [==============================] - 2s 17ms/step - loss: 1.5415 - mae: 0.9512\n",
      "Epoch 48/150\n",
      "142/142 [==============================] - 2s 17ms/step - loss: 1.5160 - mae: 0.9474\n",
      "Epoch 49/150\n",
      "142/142 [==============================] - 2s 17ms/step - loss: 1.4852 - mae: 0.9408\n",
      "Epoch 50/150\n",
      "142/142 [==============================] - 3s 18ms/step - loss: 1.5228 - mae: 0.9470\n",
      "Epoch 51/150\n",
      "142/142 [==============================] - 3s 18ms/step - loss: 1.4988 - mae: 0.9440\n",
      "Epoch 52/150\n",
      "142/142 [==============================] - 3s 18ms/step - loss: 1.5524 - mae: 0.9555\n",
      "Epoch 53/150\n",
      "142/142 [==============================] - 3s 18ms/step - loss: 1.4899 - mae: 0.9438\n",
      "Epoch 54/150\n",
      "142/142 [==============================] - 2s 17ms/step - loss: 1.4881 - mae: 0.9362\n",
      "Epoch 55/150\n",
      "142/142 [==============================] - 2s 17ms/step - loss: 1.5309 - mae: 0.9539\n",
      "Epoch 56/150\n",
      "142/142 [==============================] - 3s 18ms/step - loss: 1.4636 - mae: 0.9293\n",
      "Epoch 57/150\n",
      "142/142 [==============================] - 2s 17ms/step - loss: 1.5045 - mae: 0.9481\n",
      "Epoch 58/150\n",
      "142/142 [==============================] - 2s 17ms/step - loss: 1.4738 - mae: 0.9378\n",
      "Epoch 59/150\n",
      "142/142 [==============================] - 2s 18ms/step - loss: 1.4799 - mae: 0.9377\n",
      "Epoch 60/150\n",
      "142/142 [==============================] - 3s 18ms/step - loss: 1.4850 - mae: 0.9371\n",
      "Epoch 61/150\n",
      "142/142 [==============================] - 3s 18ms/step - loss: 1.4853 - mae: 0.9391\n",
      "Epoch 62/150\n",
      "142/142 [==============================] - 2s 17ms/step - loss: 1.4956 - mae: 0.9399\n",
      "Epoch 63/150\n",
      "142/142 [==============================] - 2s 17ms/step - loss: 1.4768 - mae: 0.9389\n",
      "Epoch 64/150\n",
      "142/142 [==============================] - 2s 17ms/step - loss: 1.4722 - mae: 0.9382\n",
      "Epoch 65/150\n",
      "142/142 [==============================] - 3s 18ms/step - loss: 1.5115 - mae: 0.9416\n",
      "Epoch 66/150\n",
      "142/142 [==============================] - 3s 18ms/step - loss: 1.4764 - mae: 0.9401\n",
      "Epoch 67/150\n",
      "142/142 [==============================] - 2s 17ms/step - loss: 1.4813 - mae: 0.9430\n",
      "Epoch 68/150\n",
      "142/142 [==============================] - 2s 17ms/step - loss: 1.4625 - mae: 0.9347\n",
      "Epoch 69/150\n",
      "142/142 [==============================] - 2s 17ms/step - loss: 1.4592 - mae: 0.9343\n",
      "Epoch 70/150\n",
      "142/142 [==============================] - 2s 16ms/step - loss: 1.5075 - mae: 0.9446\n",
      "Epoch 71/150\n",
      "142/142 [==============================] - 2s 16ms/step - loss: 1.4859 - mae: 0.9412\n",
      "Epoch 72/150\n",
      "142/142 [==============================] - 2s 16ms/step - loss: 1.4775 - mae: 0.9327\n",
      "Epoch 73/150\n",
      "142/142 [==============================] - 2s 17ms/step - loss: 1.4574 - mae: 0.9282\n",
      "Epoch 74/150\n",
      "142/142 [==============================] - 2s 16ms/step - loss: 1.4533 - mae: 0.9320\n",
      "Epoch 75/150\n",
      "142/142 [==============================] - 2s 16ms/step - loss: 1.4405 - mae: 0.9300\n",
      "Epoch 76/150\n",
      "142/142 [==============================] - 2s 16ms/step - loss: 1.4706 - mae: 0.9288\n",
      "Epoch 77/150\n",
      "142/142 [==============================] - 2s 17ms/step - loss: 1.4488 - mae: 0.9265\n",
      "Epoch 78/150\n",
      "142/142 [==============================] - 2s 17ms/step - loss: 1.4752 - mae: 0.9376\n",
      "Epoch 79/150\n",
      "142/142 [==============================] - 3s 18ms/step - loss: 1.4341 - mae: 0.9278\n",
      "Epoch 80/150\n",
      "142/142 [==============================] - 3s 18ms/step - loss: 1.4374 - mae: 0.9265\n",
      "Epoch 81/150\n",
      "142/142 [==============================] - 3s 18ms/step - loss: 1.4340 - mae: 0.9261\n",
      "Epoch 82/150\n",
      "142/142 [==============================] - 2s 17ms/step - loss: 1.4106 - mae: 0.9178\n",
      "Epoch 83/150\n",
      "142/142 [==============================] - 2s 17ms/step - loss: 1.4485 - mae: 0.9286\n",
      "Epoch 84/150\n",
      "142/142 [==============================] - 2s 16ms/step - loss: 1.4665 - mae: 0.9317\n",
      "Epoch 85/150\n",
      "142/142 [==============================] - 2s 17ms/step - loss: 1.4735 - mae: 0.9337\n",
      "Epoch 86/150\n",
      "142/142 [==============================] - 2s 17ms/step - loss: 1.4648 - mae: 0.9325\n",
      "Epoch 87/150\n",
      "142/142 [==============================] - 2s 17ms/step - loss: 1.4733 - mae: 0.9354\n",
      "Epoch 88/150\n",
      "142/142 [==============================] - 2s 17ms/step - loss: 1.4520 - mae: 0.9315\n",
      "Epoch 89/150\n",
      "142/142 [==============================] - 2s 17ms/step - loss: 1.4487 - mae: 0.9281\n",
      "Epoch 90/150\n",
      "142/142 [==============================] - 2s 17ms/step - loss: 1.4389 - mae: 0.9232\n",
      "Epoch 91/150\n",
      "142/142 [==============================] - 2s 16ms/step - loss: 1.4547 - mae: 0.9277\n",
      "Epoch 92/150\n",
      "142/142 [==============================] - 2s 17ms/step - loss: 1.4396 - mae: 0.9243\n",
      "Epoch 93/150\n",
      "142/142 [==============================] - 2s 18ms/step - loss: 1.4661 - mae: 0.9284\n",
      "Epoch 94/150\n",
      "142/142 [==============================] - 2s 17ms/step - loss: 1.4494 - mae: 0.9320\n",
      "Epoch 95/150\n",
      "142/142 [==============================] - 2s 17ms/step - loss: 1.4483 - mae: 0.9232\n",
      "Epoch 96/150\n",
      "142/142 [==============================] - 3s 18ms/step - loss: 1.4458 - mae: 0.9219\n",
      "Epoch 97/150\n",
      "142/142 [==============================] - 3s 18ms/step - loss: 1.4311 - mae: 0.9236\n",
      "Epoch 98/150\n",
      "142/142 [==============================] - 3s 18ms/step - loss: 1.4254 - mae: 0.9193\n",
      "Epoch 99/150\n",
      "142/142 [==============================] - 2s 17ms/step - loss: 1.4450 - mae: 0.9219\n",
      "Epoch 100/150\n",
      "142/142 [==============================] - 2s 17ms/step - loss: 1.4280 - mae: 0.9188\n",
      "Epoch 101/150\n",
      "142/142 [==============================] - 2s 17ms/step - loss: 1.4305 - mae: 0.9199\n",
      "Epoch 102/150\n",
      "142/142 [==============================] - 3s 18ms/step - loss: 1.4392 - mae: 0.9323\n",
      "Epoch 103/150\n",
      "142/142 [==============================] - 2s 17ms/step - loss: 1.4209 - mae: 0.9212\n",
      "Epoch 104/150\n",
      "142/142 [==============================] - 3s 18ms/step - loss: 1.4074 - mae: 0.9151\n",
      "Epoch 105/150\n",
      "142/142 [==============================] - 2s 17ms/step - loss: 1.4529 - mae: 0.9303\n",
      "Epoch 106/150\n",
      "142/142 [==============================] - 2s 17ms/step - loss: 1.3938 - mae: 0.9092\n",
      "Epoch 107/150\n",
      "142/142 [==============================] - 3s 18ms/step - loss: 1.4429 - mae: 0.9250\n",
      "Epoch 108/150\n",
      "142/142 [==============================] - 2s 17ms/step - loss: 1.4443 - mae: 0.9275\n",
      "Epoch 109/150\n",
      "142/142 [==============================] - 2s 17ms/step - loss: 1.4282 - mae: 0.9197\n",
      "Epoch 110/150\n",
      "142/142 [==============================] - 2s 17ms/step - loss: 1.4123 - mae: 0.9165\n",
      "Epoch 111/150\n",
      "142/142 [==============================] - 2s 17ms/step - loss: 1.4068 - mae: 0.9096\n",
      "Epoch 112/150\n",
      "142/142 [==============================] - 3s 18ms/step - loss: 1.4107 - mae: 0.9145\n",
      "Epoch 113/150\n",
      "142/142 [==============================] - 3s 19ms/step - loss: 1.4394 - mae: 0.9219\n",
      "Epoch 114/150\n",
      "142/142 [==============================] - 3s 20ms/step - loss: 1.4368 - mae: 0.9234\n",
      "Epoch 115/150\n",
      "142/142 [==============================] - 3s 19ms/step - loss: 1.3916 - mae: 0.9135\n",
      "Epoch 116/150\n",
      "142/142 [==============================] - 3s 18ms/step - loss: 1.4108 - mae: 0.9113\n",
      "Epoch 117/150\n",
      "142/142 [==============================] - 3s 18ms/step - loss: 1.4018 - mae: 0.9117\n",
      "Epoch 118/150\n",
      "142/142 [==============================] - 3s 19ms/step - loss: 1.3457 - mae: 0.9001\n",
      "Epoch 119/150\n",
      "142/142 [==============================] - 2s 17ms/step - loss: 1.4204 - mae: 0.9155\n",
      "Epoch 120/150\n",
      "142/142 [==============================] - 2s 16ms/step - loss: 1.4006 - mae: 0.9070\n",
      "Epoch 121/150\n",
      "142/142 [==============================] - 2s 17ms/step - loss: 1.4505 - mae: 0.9286\n",
      "Epoch 122/150\n",
      "142/142 [==============================] - 2s 16ms/step - loss: 1.4419 - mae: 0.9260\n",
      "Epoch 123/150\n",
      "142/142 [==============================] - 3s 21ms/step - loss: 1.3775 - mae: 0.9076\n",
      "Epoch 124/150\n",
      "142/142 [==============================] - 3s 18ms/step - loss: 1.4036 - mae: 0.9129\n",
      "Epoch 125/150\n",
      "142/142 [==============================] - 3s 19ms/step - loss: 1.4344 - mae: 0.9188\n",
      "Epoch 126/150\n",
      "142/142 [==============================] - 3s 20ms/step - loss: 1.4210 - mae: 0.9203\n",
      "Epoch 127/150\n",
      "142/142 [==============================] - 3s 19ms/step - loss: 1.3630 - mae: 0.9005\n",
      "Epoch 128/150\n",
      "142/142 [==============================] - 3s 18ms/step - loss: 1.3898 - mae: 0.9127\n",
      "Epoch 129/150\n",
      "142/142 [==============================] - 3s 18ms/step - loss: 1.4304 - mae: 0.9227\n",
      "Epoch 130/150\n",
      "142/142 [==============================] - 2s 16ms/step - loss: 1.3649 - mae: 0.9061\n",
      "Epoch 131/150\n",
      "142/142 [==============================] - 2s 17ms/step - loss: 1.3920 - mae: 0.9090\n",
      "Epoch 132/150\n",
      "142/142 [==============================] - 2s 16ms/step - loss: 1.3693 - mae: 0.9052\n",
      "Epoch 133/150\n",
      "142/142 [==============================] - 2s 17ms/step - loss: 1.3956 - mae: 0.9119\n",
      "Epoch 134/150\n",
      "142/142 [==============================] - 2s 17ms/step - loss: 1.4070 - mae: 0.9118\n",
      "Epoch 135/150\n",
      "142/142 [==============================] - 3s 18ms/step - loss: 1.3702 - mae: 0.9076\n",
      "Epoch 136/150\n",
      "142/142 [==============================] - 3s 19ms/step - loss: 1.3613 - mae: 0.9034\n",
      "Epoch 137/150\n",
      "142/142 [==============================] - 3s 18ms/step - loss: 1.3334 - mae: 0.8909\n",
      "Epoch 138/150\n",
      "142/142 [==============================] - 2s 17ms/step - loss: 1.4065 - mae: 0.9171\n",
      "Epoch 139/150\n",
      "142/142 [==============================] - 3s 18ms/step - loss: 1.3823 - mae: 0.8985\n",
      "Epoch 140/150\n",
      "142/142 [==============================] - 3s 18ms/step - loss: 1.4130 - mae: 0.9115\n",
      "Epoch 141/150\n",
      "142/142 [==============================] - 2s 17ms/step - loss: 1.3705 - mae: 0.9006\n",
      "Epoch 142/150\n",
      "142/142 [==============================] - 2s 17ms/step - loss: 1.3674 - mae: 0.9043\n",
      "Epoch 143/150\n",
      "142/142 [==============================] - 2s 17ms/step - loss: 1.3624 - mae: 0.8984\n",
      "Epoch 144/150\n",
      "142/142 [==============================] - 3s 18ms/step - loss: 1.3861 - mae: 0.9101\n",
      "Epoch 145/150\n",
      "142/142 [==============================] - 3s 18ms/step - loss: 1.3858 - mae: 0.9046\n",
      "Epoch 146/150\n",
      "142/142 [==============================] - 3s 19ms/step - loss: 1.3994 - mae: 0.9109\n",
      "Epoch 147/150\n",
      "142/142 [==============================] - 3s 22ms/step - loss: 1.4222 - mae: 0.9245\n",
      "Epoch 148/150\n",
      "142/142 [==============================] - 3s 21ms/step - loss: 1.3955 - mae: 0.9102\n",
      "Epoch 149/150\n",
      "142/142 [==============================] - 3s 20ms/step - loss: 1.3652 - mae: 0.8971\n",
      "Epoch 150/150\n",
      "142/142 [==============================] - 3s 21ms/step - loss: 1.3846 - mae: 0.9048\n"
     ]
    }
   ],
   "source": [
    "hist = lstm_model.fit(training_vectors, y_train, batch_size=64, epochs=150)"
   ]
  },
  {
   "cell_type": "code",
   "execution_count": 34,
   "metadata": {},
   "outputs": [
    {
     "data": {
      "text/plain": [
       "<matplotlib.legend.Legend at 0x280a8f5e7f0>"
      ]
     },
     "execution_count": 34,
     "metadata": {},
     "output_type": "execute_result"
    },
    {
     "data": {
      "image/png": "[encoded data removed]",
      "text/plain": [
       "<Figure size 1000x500 with 1 Axes>"
      ]
     },
     "metadata": {},
     "output_type": "display_data"
    }
   ],
   "source": [
    "import matplotlib.pyplot as plt\n",
    "fig, hist_axes = plt.subplots(1, 1, figsize=(10, 5))\n",
    "\n",
    "hist_axes.clear()\n",
    "hist_axes.plot(hist.history[\"loss\"], label='loss', color='red')\n",
    "hist_axes.set_xlabel('Epochs')\n",
    "hist_axes.set_ylabel('Loss')\n",
    "hist_axes.legend()"
   ]
  },
  {
   "cell_type": "code",
   "execution_count": 22,
   "metadata": {},
   "outputs": [],
   "source": [
    "lstm_model.save('final_lstm.h5')"
   ]
  },
  {
   "cell_type": "code",
   "execution_count": 35,
   "metadata": {},
   "outputs": [
    {
     "name": "stdout",
     "output_type": "stream",
     "text": [
      "122/122 [==============================] - 1s 4ms/step\n"
     ]
    },
    {
     "data": {
      "text/plain": [
       "array([[2.],\n",
       "       [6.],\n",
       "       [7.],\n",
       "       ...,\n",
       "       [7.],\n",
       "       [8.],\n",
       "       [9.]], dtype=float32)"
      ]
     },
     "execution_count": 35,
     "metadata": {},
     "output_type": "execute_result"
    }
   ],
   "source": [
    "y_pred = lstm_model.predict(testing_vectors)\n",
    "y_pred = np.around(y_pred)\n",
    "y_pred"
   ]
  },
  {
   "cell_type": "code",
   "execution_count": 36,
   "metadata": {},
   "outputs": [],
   "source": [
    "temp = y_pred.astype('int64')"
   ]
  },
  {
   "cell_type": "code",
   "execution_count": 37,
   "metadata": {},
   "outputs": [
    {
     "data": {
      "text/plain": [
       "array([[2],\n",
       "       [6],\n",
       "       [7],\n",
       "       ...,\n",
       "       [7],\n",
       "       [8],\n",
       "       [9]], dtype=int64)"
      ]
     },
     "execution_count": 37,
     "metadata": {},
     "output_type": "execute_result"
    }
   ],
   "source": [
    "temp"
   ]
  },
  {
   "cell_type": "code",
   "execution_count": 38,
   "metadata": {},
   "outputs": [
    {
     "name": "stdout",
     "output_type": "stream",
     "text": [
      "Kappa Score: 0.6966967724147173\n"
     ]
    }
   ],
   "source": [
    "y_pred = np.around(y_pred)\n",
    "result = cohen_kappa_score(y_test.values,temp,weights='quadratic')\n",
    "print(\"Kappa Score: {}\".format(result))\n",
    "# results.append(result)"
   ]
  }
 ],
 "metadata": {
  "kernelspec": {
   "display_name": "Python 3 (ipykernel)",
   "language": "python",
   "name": "python3"
  },
  "language_info": {
   "codemirror_mode": {
    "name": "ipython",
    "version": 3
   },
   "file_extension": ".py",
   "mimetype": "text/x-python",
   "name": "python",
   "nbconvert_exporter": "python",
   "pygments_lexer": "ipython3",
   "version": "3.8.5"
  }
 },
 "nbformat": 4,
 "nbformat_minor": 4
}
